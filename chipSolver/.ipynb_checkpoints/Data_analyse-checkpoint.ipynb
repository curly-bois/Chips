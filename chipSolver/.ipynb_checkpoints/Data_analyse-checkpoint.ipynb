{
 "cells": [
  {
   "cell_type": "code",
   "execution_count": 142,
   "metadata": {},
   "outputs": [],
   "source": [
    "import pandas\n",
    "df = pandas.read_excel('bestof4.xlsx')"
   ]
  },
  {
   "cell_type": "code",
   "execution_count": 143,
   "metadata": {},
   "outputs": [
    {
     "data": {
      "text/html": [
       "<div>\n",
       "<style scoped>\n",
       "    .dataframe tbody tr th:only-of-type {\n",
       "        vertical-align: middle;\n",
       "    }\n",
       "\n",
       "    .dataframe tbody tr th {\n",
       "        vertical-align: top;\n",
       "    }\n",
       "\n",
       "    .dataframe thead th {\n",
       "        text-align: right;\n",
       "    }\n",
       "</style>\n",
       "<table border=\"1\" class=\"dataframe\">\n",
       "  <thead>\n",
       "    <tr style=\"text-align: right;\">\n",
       "      <th></th>\n",
       "      <th>list</th>\n",
       "    </tr>\n",
       "  </thead>\n",
       "  <tbody>\n",
       "    <tr>\n",
       "      <th>0</th>\n",
       "      <td>[((7, 8, 0), (9, 8, 0)), ((2, 6, 0), (15, 12, ...</td>\n",
       "    </tr>\n",
       "    <tr>\n",
       "      <th>1</th>\n",
       "      <td>[((13, 7, 0), (13, 15, 0)), ((6, 14, 0), (9, 8...</td>\n",
       "    </tr>\n",
       "    <tr>\n",
       "      <th>2</th>\n",
       "      <td>[((14, 2, 0), (12, 6, 0)), ((13, 7, 0), (6, 8,...</td>\n",
       "    </tr>\n",
       "    <tr>\n",
       "      <th>3</th>\n",
       "      <td>[((7, 6, 0), (2, 12, 0)), ((1, 9, 0), (15, 1, ...</td>\n",
       "    </tr>\n",
       "    <tr>\n",
       "      <th>4</th>\n",
       "      <td>[((4, 14, 0), (6, 3, 0)), ((11, 5, 0), (7, 12,...</td>\n",
       "    </tr>\n",
       "    <tr>\n",
       "      <th>5</th>\n",
       "      <td>[((11, 8, 0), (3, 2, 0)), ((7, 6, 0), (2, 12, ...</td>\n",
       "    </tr>\n",
       "    <tr>\n",
       "      <th>6</th>\n",
       "      <td>[((16, 7, 0), (16, 5, 0)), ((11, 8, 0), (6, 9,...</td>\n",
       "    </tr>\n",
       "    <tr>\n",
       "      <th>7</th>\n",
       "      <td>[((6, 7, 0), (3, 2, 0)), ((11, 8, 0), (3, 2, 0...</td>\n",
       "    </tr>\n",
       "    <tr>\n",
       "      <th>8</th>\n",
       "      <td>[((13, 7, 0), (13, 15, 0)), ((7, 8, 0), (9, 8,...</td>\n",
       "    </tr>\n",
       "    <tr>\n",
       "      <th>9</th>\n",
       "      <td>[((11, 8, 0), (6, 9, 0)), ((2, 12, 0), (8, 15,...</td>\n",
       "    </tr>\n",
       "    <tr>\n",
       "      <th>10</th>\n",
       "      <td>[((6, 1, 0), (13, 13, 0)), ((4, 5, 0), (8, 4, ...</td>\n",
       "    </tr>\n",
       "    <tr>\n",
       "      <th>11</th>\n",
       "      <td>[((13, 15, 0), (15, 1, 0)), ((15, 8, 0), (9, 1...</td>\n",
       "    </tr>\n",
       "  </tbody>\n",
       "</table>\n",
       "</div>"
      ],
      "text/plain": [
       "                                                 list\n",
       "0   [((7, 8, 0), (9, 8, 0)), ((2, 6, 0), (15, 12, ...\n",
       "1   [((13, 7, 0), (13, 15, 0)), ((6, 14, 0), (9, 8...\n",
       "2   [((14, 2, 0), (12, 6, 0)), ((13, 7, 0), (6, 8,...\n",
       "3   [((7, 6, 0), (2, 12, 0)), ((1, 9, 0), (15, 1, ...\n",
       "4   [((4, 14, 0), (6, 3, 0)), ((11, 5, 0), (7, 12,...\n",
       "5   [((11, 8, 0), (3, 2, 0)), ((7, 6, 0), (2, 12, ...\n",
       "6   [((16, 7, 0), (16, 5, 0)), ((11, 8, 0), (6, 9,...\n",
       "7   [((6, 7, 0), (3, 2, 0)), ((11, 8, 0), (3, 2, 0...\n",
       "8   [((13, 7, 0), (13, 15, 0)), ((7, 8, 0), (9, 8,...\n",
       "9   [((11, 8, 0), (6, 9, 0)), ((2, 12, 0), (8, 15,...\n",
       "10  [((6, 1, 0), (13, 13, 0)), ((4, 5, 0), (8, 4, ...\n",
       "11  [((13, 15, 0), (15, 1, 0)), ((15, 8, 0), (9, 1..."
      ]
     },
     "execution_count": 143,
     "metadata": {},
     "output_type": "execute_result"
    }
   ],
   "source": [
    "df"
   ]
  },
  {
   "cell_type": "code",
   "execution_count": 144,
   "metadata": {},
   "outputs": [],
   "source": [
    "strr = df['list'][0]"
   ]
  },
  {
   "cell_type": "code",
   "execution_count": null,
   "metadata": {},
   "outputs": [],
   "source": []
  },
  {
   "cell_type": "code",
   "execution_count": null,
   "metadata": {},
   "outputs": [],
   "source": []
  },
  {
   "cell_type": "code",
   "execution_count": 145,
   "metadata": {},
   "outputs": [
    {
     "data": {
      "text/plain": [
       "'[((7, 8, 0), (9, 8, 0)), ((2, 6, 0), (15, 12, 0)), ((9, 8, 0), (6, 3, 0)), ((3, 2, 0), (4, 5, 0)), ((2, 4, 0), (1, 9, 0)), ((1, 3, 0), (12, 6, 0)), ((16, 7, 0), (1, 9, 0)), ((9, 13, 0), (10, 6, 0)), ((10, 5, 0), (15, 12, 0)), ((13, 7, 0), (6, 8, 0)), ((2, 12, 0), (8, 15, 0)), ((6, 8, 0), (2, 12, 0)), ((14, 2, 0), (12, 6, 0)), ((8, 4, 0), (1, 1, 0)), ((1, 5, 0), (16, 15, 0)), ((14, 2, 0), (4, 5, 0)), ((4, 5, 0), (2, 12, 0)), ((15, 8, 0), (3, 2, 0)), ((6, 14, 0), (9, 8, 0)), ((16, 7, 0), (16, 5, 0)), ((10, 5, 0), (6, 14, 0)), ((13, 7, 0), (13, 15, 0)), ((8, 4, 0), (8, 15, 0)), ((12, 3, 0), (11, 8, 0)), ((13, 15, 0), (15, 1, 0)), ((15, 8, 0), (6, 14, 0)), ((1, 9, 0), (12, 2, 0)), ((15, 12, 0), (4, 5, 0)), ((10, 1, 0), (4, 12, 0)), ((6, 9, 0), (15, 3, 0)), ((1, 15, 0), (12, 2, 0)), ((6, 1, 0), (13, 13, 0)), ((15, 1, 0), (4, 14, 0)), ((7, 6, 0), (2, 12, 0)), ((3, 2, 0), (4, 12, 0)), ((1, 9, 0), (15, 1, 0)), ((12, 6, 0), (1, 1, 0)), ((15, 6, 0), (11, 15, 0)), ((11, 8, 0), (3, 2, 0)), ((11, 5, 0), (7, 12, 0)), ((6, 7, 0), (3, 2, 0)), ((1, 1, 0), (8, 15, 0)), ((6, 15, 0), (12, 11, 0)), ((6, 1, 0), (8, 4, 0)), ((15, 1, 0), (10, 1, 0)), ((4, 5, 0), (8, 4, 0)), ((15, 8, 0), (9, 10, 0)), ((4, 14, 0), (6, 3, 0)), ((11, 8, 0), (6, 9, 0)), ((16, 15, 0), (15, 6, 0))]'"
      ]
     },
     "execution_count": 145,
     "metadata": {},
     "output_type": "execute_result"
    }
   ],
   "source": [
    "strr"
   ]
  },
  {
   "cell_type": "code",
   "execution_count": 146,
   "metadata": {},
   "outputs": [],
   "source": [
    "def strip2points(strr):\n",
    "    i = strr.index('((') + 2\n",
    "    strr = strr[i:-i]\n",
    "    data = strr.split('))')\n",
    "\n",
    "    def stripy(k):\n",
    "        k = [i for i in k if i.isdigit()]\n",
    "        return k[0]\n",
    "\n",
    "    clean_data = map(lambda x: x.replace('), (', ';'), data)\n",
    "\n",
    "    pre_to_connect = [[[int(stripy(k)) \n",
    "                        for k in j.split(',') if k != ''] \n",
    "                        for j in i.split(';')] \n",
    "                        for i in list(clean_data)]\n",
    "    return pre_to_connect"
   ]
  },
  {
   "cell_type": "code",
   "execution_count": 147,
   "metadata": {},
   "outputs": [],
   "source": [
    "best_start = []\n",
    "best_end = []\n",
    "for i in range(len(df)):\n",
    "    strr = df['list'][i]\n",
    "    pre_to_connect = strip2points(strr)\n",
    "    best_start += pre_to_connect[:5]\n",
    "    best_end += pre_to_connect[-5:]"
   ]
  },
  {
   "cell_type": "code",
   "execution_count": 148,
   "metadata": {},
   "outputs": [],
   "source": [
    "best_start\n",
    "\n",
    "d1 = {}\n",
    "for i in best_start:\n",
    "    i = str(i)\n",
    "    if i in d1:\n",
    "        d1[i] +=1\n",
    "    else:\n",
    "        d1[i] = 1"
   ]
  },
  {
   "cell_type": "code",
   "execution_count": 149,
   "metadata": {},
   "outputs": [
    {
     "data": {
      "text/plain": [
       "{'[[4, 5, 0], [8, 4, 0]]': 1,\n",
       " '[[1, 8, 0], [9, 1, 0]]': 1,\n",
       " '[[4, 1, 0], [6, 3, 0]]': 2,\n",
       " '[[1, 8, 0], [6, 9, 0]]': 2,\n",
       " '[[1, 1, 0], [1, 6, 0]]': 1,\n",
       " '[[6, 9, 0], [1, 3, 0]]': 1,\n",
       " '[[1, 5, 0], [1, 1, 0]]': 1,\n",
       " '[[1, 9, 0], [1, 2, 0]]': 2,\n",
       " '[[6, 7, 0], [3, 2, 0]]': 2,\n",
       " '[[1, 8, 0], [6, 1, 0]]': 3,\n",
       " '[[4, 5, 0], [2, 1, 0]]': 2,\n",
       " '[[1, 1, 0], [1, 2, 0]]': 1,\n",
       " '[[1, 3, 0], [1, 8, 0]]': 1,\n",
       " '[[9, 8, 0], [6, 3, 0]]': 2,\n",
       " '[[1, 5, 0], [6, 1, 0]]': 2,\n",
       " '[[1, 7, 0], [1, 5, 0]]': 3,\n",
       " '[[6, 1, 0], [1, 1, 0]]': 1,\n",
       " '[[1, 7, 0], [6, 8, 0]]': 2,\n",
       " '[[3, 2, 0], [4, 1, 0]]': 3,\n",
       " '[[1, 7, 0], [1, 9, 0]]': 1,\n",
       " '[[7, 6, 0], [2, 1, 0]]': 2,\n",
       " '[[1, 6, 0], [1, 1, 0]]': 3,\n",
       " '[[1, 7, 0], [1, 1, 0]]': 2,\n",
       " '[[6, 1, 0], [9, 8, 0]]': 1,\n",
       " '[[1, 8, 0], [3, 2, 0]]': 2,\n",
       " '[[8, 4, 0], [1, 1, 0]]': 1,\n",
       " '[[6, 1, 0], [8, 4, 0]]': 1,\n",
       " '[[7, 8, 0], [9, 8, 0]]': 1,\n",
       " '[[8, 4, 0], [8, 1, 0]]': 1,\n",
       " '[[1, 2, 0], [4, 5, 0]]': 1,\n",
       " '[[1, 5, 0], [7, 1, 0]]': 1,\n",
       " '[[2, 1, 0], [8, 1, 0]]': 1,\n",
       " '[[2, 4, 0], [1, 9, 0]]': 1,\n",
       " '[[1, 1, 0], [8, 1, 0]]': 1,\n",
       " '[[1, 1, 0], [4, 1, 0]]': 1,\n",
       " '[[1, 1, 0], [1, 1, 0]]': 1}"
      ]
     },
     "execution_count": 149,
     "metadata": {},
     "output_type": "execute_result"
    }
   ],
   "source": [
    "d"
   ]
  },
  {
   "cell_type": "code",
   "execution_count": 150,
   "metadata": {},
   "outputs": [],
   "source": [
    "\n",
    "d = {}\n",
    "\n",
    "for i in best_end:\n",
    "    i = str(i)\n",
    "    if i in d:\n",
    "        d[i] +=1\n",
    "    else:\n",
    "        d[i] = 1"
   ]
  },
  {
   "cell_type": "code",
   "execution_count": null,
   "metadata": {},
   "outputs": [],
   "source": []
  },
  {
   "cell_type": "code",
   "execution_count": 151,
   "metadata": {},
   "outputs": [],
   "source": [
    "import matplotlib.pyplot as plt"
   ]
  },
  {
   "cell_type": "code",
   "execution_count": 152,
   "metadata": {},
   "outputs": [
    {
     "data": {
      "image/png": "[encoded data removed]",
      "text/plain": [
       "<Figure size 432x288 with 1 Axes>"
      ]
     },
     "metadata": {},
     "output_type": "display_data"
    }
   ],
   "source": [
    "indexlist = [str(i) for i in best_start]\n",
    "for key1 in d1:\n",
    "    if d1[key1] > 2:\n",
    "        key = best_start[indexlist.index(key1)]\n",
    "        x1 = key[0][0]\n",
    "        y1 = key[0][1]\n",
    "        x2 = key[1][0]\n",
    "        y2 = key[1][0]\n",
    "        plt.plot([x1,x2],[y1,y2], color = 'r')\n",
    "    \n",
    "indexlist = [str(i) for i in best_end]\n",
    "for key1 in d:\n",
    "    if d[key1] > 2:\n",
    "        key = best_end[indexlist.index(key1)]\n",
    "        x1 = key[0][0]\n",
    "        y1 = key[0][1]\n",
    "        x2 = key[1][0]\n",
    "        y2 = key[1][0]\n",
    "        plt.plot([x1,x2],[y1,y2], color = 'g')\n",
    "\n"
   ]
  },
  {
   "cell_type": "code",
   "execution_count": null,
   "metadata": {},
   "outputs": [],
   "source": []
  },
  {
   "cell_type": "code",
   "execution_count": null,
   "metadata": {},
   "outputs": [],
   "source": []
  }
 ],
 "metadata": {
  "kernelspec": {
   "display_name": "Python 3",
   "language": "python",
   "name": "python3"
  },
  "language_info": {
   "codemirror_mode": {
    "name": "ipython",
    "version": 3
   },
   "file_extension": ".py",
   "mimetype": "text/x-python",
   "name": "python",
   "nbconvert_exporter": "python",
   "pygments_lexer": "ipython3",
   "version": "3.6.5"
  }
 },
 "nbformat": 4,
 "nbformat_minor": 2
}
